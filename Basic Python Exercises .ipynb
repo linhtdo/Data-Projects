{
 "cells": [
  {
   "cell_type": "code",
   "execution_count": 11,
   "metadata": {},
   "outputs": [
    {
     "name": "stdout",
     "output_type": "stream",
     "text": [
      "hello world\n",
      "Enter your name: meo\n",
      "Enter your age: 3\n",
      "This is meo, 3 year(s) old.\n"
     ]
    }
   ],
   "source": [
    "#print ('hello world')\n",
    "\n",
    "#Exercise 1: User input: Ask user to enter name and age\n",
    "UserName = input('Enter your name: ')\n",
    "UserAge = input('Enter your age: ')\n",
    "print('This is ' + UserName +', ' + UserAge + ' year(s) old.')\n"
   ]
  },
  {
   "cell_type": "code",
   "execution_count": 21,
   "metadata": {},
   "outputs": [
    {
     "name": "stdout",
     "output_type": "stream",
     "text": [
      "Enter a number: 0\n",
      "0 is 0\n"
     ]
    }
   ],
   "source": [
    "#Exercise 2: Odd or Even\n",
    "num = int(input('Enter a number: '))\n",
    "if num%2 == 0 and num != 0:\n",
    "    print('%d is an even number' % num)\n",
    "if num == 0:\n",
    "    print('%d is 0' % num)\n",
    "else:\n",
    "    print('%d is an odd number' % num)"
   ]
  },
  {
   "cell_type": "code",
   "execution_count": 20,
   "metadata": {},
   "outputs": [
    {
     "name": "stdout",
     "output_type": "stream",
     "text": [
      "[1, 1, 2, 3, 5, 8]\n"
     ]
    }
   ],
   "source": [
    "#Exercise 3: List less then 10\n",
    "a = [1, 1, 2, 3, 5, 8, 13, 21, 34, 55, 89]\n",
    "b = []\n",
    "for i in a:\n",
    "    if i < 10:\n",
    "        b.append(i)\n",
    "print(lessthan10)"
   ]
  },
  {
   "cell_type": "code",
   "execution_count": 4,
   "metadata": {},
   "outputs": [
    {
     "name": "stdout",
     "output_type": "stream",
     "text": [
      "Enter a number: 12\n",
      "[1, 2, 3, 4, 6, 12]\n"
     ]
    }
   ],
   "source": [
    "#Exercise 4: Divisors\n",
    "num = int(input('Enter a number: '))\n",
    "\n",
    "numrange = list(range(1,num+1))\n",
    "\n",
    "divisor = []\n",
    "          \n",
    "for i in numrange:\n",
    "    if num % i == 0:\n",
    "        divisor.append(i)\n",
    "\n",
    "print(divisor)          \n",
    "#ok thieu dau ngoac o cuoi cau lenh num=...       "
   ]
  },
  {
   "cell_type": "code",
   "execution_count": 7,
   "metadata": {},
   "outputs": [
    {
     "name": "stdout",
     "output_type": "stream",
     "text": [
      "[1, 1, 2, 3, 5, 8, 13]\n"
     ]
    }
   ],
   "source": [
    "#Exercise 5: List Overlap: List common elements between 2 lists\n",
    "a = [1, 1, 2, 3, 5, 8, 13, 21, 34, 55, 89]\n",
    "b = [1, 2, 3, 4, 5, 6, 7, 8, 9, 10, 11, 12, 13]\n",
    "\n",
    "overlap = []\n",
    "\n",
    "for i in a:\n",
    "    for u in b:\n",
    "        if i==u:\n",
    "            overlap.append(i)\n",
    "print(overlap)\n",
    "#Giong bai hoi truoc code trong R"
   ]
  },
  {
   "cell_type": "code",
   "execution_count": 30,
   "metadata": {},
   "outputs": [
    {
     "name": "stdout",
     "output_type": "stream",
     "text": [
      "Enter a phrase here: meomeo\n",
      "meomeo is not a palindrome\n"
     ]
    }
   ],
   "source": [
    "#Exercise 6: String lists: Ask user for a string and print out whether this string is a palindrome or not\n",
    "\n",
    "userstr = input('Enter a phrase here: ')\n",
    "\n",
    "i = str(userstr)\n",
    "rev = i[::-1]\n",
    "if i==rev:\n",
    "    print(userstr + ' is a palindrome')\n",
    "else:\n",
    "    print(userstr + ' is not a palindrome')\n",
    "#to reverse a string/list: use string[::-1]"
   ]
  },
  {
   "cell_type": "code",
   "execution_count": 3,
   "metadata": {},
   "outputs": [
    {
     "name": "stdout",
     "output_type": "stream",
     "text": [
      "[4, 16, 36, 64, 100]\n"
     ]
    }
   ],
   "source": [
    "#Exercise 7: List comprehensions: Take a list and make a new list that has only the even elements of this list in it\n",
    "\n",
    "a = [1, 4, 9, 16, 25, 36, 49, 64, 81, 100]\n",
    "\n",
    "even = []\n",
    "for i in a:\n",
    "    if i % 2 == 0:\n",
    "        even.append(i)\n",
    "print(even)\n",
    "#Neu la odd thi dung if i % 2 != 0:"
   ]
  },
  {
   "cell_type": "code",
   "execution_count": 3,
   "metadata": {},
   "outputs": [
    {
     "name": "stdout",
     "output_type": "stream",
     "text": [
      "User 1: Choose rock/paper/scissors: rock\n",
      "User 2: Choose rock/paper/scissors: paper\n",
      "Paper beats rock. User2 wins!\n",
      "User 1: Choose rock/paper/scissors: moe\n",
      "User 2: Choose rock/paper/scissors: haha\n",
      "User 1 please choose rock/paper/scissors: \n",
      "User 1: Choose rock/paper/scissors: rock\n",
      "User 2: Choose rock/paper/scissors: scissors\n",
      "Rock beats scissors. User1 wins!\n",
      "User 1: Choose rock/paper/scissors: quit\n",
      "User 2: Choose rock/paper/scissors: haha\n",
      "Exiting game. See you all next time!\n"
     ]
    }
   ],
   "source": [
    "#Exercise 8: Rock-Paper-Scissors game\n",
    "#Ask for inputs from the players\n",
    "#Compare input and print message\n",
    "\n",
    "user1 = []\n",
    "user2 = []\n",
    "\n",
    "while user1 != 'quit' and user2 != 'quit':\n",
    "    user1 = input('User 1: Choose rock/paper/scissors: ')\n",
    "    user2 = input('User 2: Choose rock/paper/scissors: ')\n",
    "    if user1 == 'quit' or user2 =='quit':\n",
    "        print('Exiting game. See you all next time!')\n",
    "        break\n",
    "    else:\n",
    "        if user1 == 'rock':\n",
    "            if user2 == 'paper':\n",
    "                print('Paper beats rock. User2 wins!')\n",
    "            elif user2 == 'scissors':\n",
    "                print('Rock beats scissors. User1 wins!')\n",
    "            elif user2 == 'rock':\n",
    "                print('That\\'s a draw')\n",
    "            elif user2 != 'rock' or user2 != 'paper' or user2 != 'scissors':\n",
    "                print('User 2 please choose rock/paper/scissors: ')\n",
    "                \n",
    "        elif user1 == 'paper':\n",
    "            if user2 == 'rock':\n",
    "                print('Paper beats rock. User1 wins!')\n",
    "            elif user2 == 'scissors':\n",
    "                print('Scissors beats paper. User2 wins!')\n",
    "            elif user2 == 'paper':\n",
    "                print('That\\'s a draw')\n",
    "            elif user2 != 'rock' or user2 != 'paper' or user2 != 'scissors':\n",
    "                print('User 2 please choose rock/paper/scissors: ')\n",
    "                \n",
    "        elif user1 == 'scissors':\n",
    "            if user2 == 'paper':\n",
    "                print('Scissors beats paper. User1 wins!')\n",
    "            elif user2 == 'rock':\n",
    "                print('Rock beats scissors. User2 wins!')\n",
    "            elif user2 == 'scissors':\n",
    "                print('That\\'s a draw')\n",
    "            elif user2 != 'rock' or user2 != 'paper' or user2 != 'scissors':\n",
    "                print('User 2 please choose rock/paper/scissors: ')\n",
    "                \n",
    "        else:\n",
    "            print('User 1 please choose rock/paper/scissors: ')\n",
    "\n",
    "# Break statement worked"
   ]
  },
  {
   "cell_type": "code",
   "execution_count": 4,
   "metadata": {},
   "outputs": [
    {
     "name": "stdout",
     "output_type": "stream",
     "text": [
      "Make a guess: 5\n",
      "Your number is too low.\n",
      "Make a guess: 7\n",
      "That is correct!\n",
      "That took you 2 tries.\n",
      "Make a guess: exit\n"
     ]
    },
    {
     "ename": "SystemExit",
     "evalue": "See you next time.",
     "output_type": "error",
     "traceback": [
      "An exception has occurred, use %tb to see the full traceback.\n",
      "\u001b[1;31mSystemExit\u001b[0m\u001b[1;31m:\u001b[0m See you next time.\n"
     ]
    },
    {
     "name": "stderr",
     "output_type": "stream",
     "text": [
      "C:\\Users\\Linh\\Anaconda3\\lib\\site-packages\\IPython\\core\\interactiveshell.py:2889: UserWarning: To exit: use 'exit', 'quit', or Ctrl-D.\n",
      "  warn(\"To exit: use 'exit', 'quit', or Ctrl-D.\", stacklevel=1)\n"
     ]
    }
   ],
   "source": [
    "#Exercise 9: Guessing Game: Generate a random number; Ask user to guess the number \n",
    "#and tell them if their guess is low/high/right\n",
    "\n",
    "import random\n",
    "import sys\n",
    "\n",
    "user = 0\n",
    "ntry = 0\n",
    "r = random.randint(1,9)\n",
    "\n",
    "while user != 'exit':\n",
    "    user = input('Make a guess: ')\n",
    "    if user == 'exit':\n",
    "        sys.exit('See you next time.')\n",
    "    user = int(user)\n",
    "    ntry = ntry + 1\n",
    "    if user > r:\n",
    "        print('your number is too high.')\n",
    "    \n",
    "    elif user < r:\n",
    "        print('Your number is too low.')\n",
    "    \n",
    "    elif user == r: \n",
    "        print('That is correct!')\n",
    "        print('That took you',ntry,'tries.')\n",
    "        \n",
    "#Dung break luc nao cung loi"
   ]
  },
  {
   "cell_type": "code",
   "execution_count": 81,
   "metadata": {},
   "outputs": [
    {
     "name": "stdout",
     "output_type": "stream",
     "text": [
      "[1, 1, 2, 3, 5, 8, 13]\n",
      "{1, 2, 3, 5, 8, 13}\n"
     ]
    }
   ],
   "source": [
    "#Exercise 10: List OVerlap Comprehensions:\n",
    "\n",
    "import random\n",
    "\n",
    "#a = random.sample(range(1,30),12)\n",
    "#b= random.sample(range(1,30),16)\n",
    "\n",
    "a = [1, 1, 2, 3, 5, 8, 13, 21, 34, 55, 89]\n",
    "b = [1, 2, 3, 4, 5, 6, 7, 8, 9, 10, 11, 12, 13]\n",
    "\n",
    "result = []\n",
    "for i in a:\n",
    "    for u in b:\n",
    "        if i==u:\n",
    "            result.append(i)\n",
    "print(result)\n",
    "print(set(result))\n",
    "#Use Set() to remove duplicates"
   ]
  },
  {
   "cell_type": "code",
   "execution_count": 77,
   "metadata": {},
   "outputs": [
    {
     "name": "stdout",
     "output_type": "stream",
     "text": [
      "[1, 1, 2, 3, 5, 8, 13, 21, 34, 55, 89] [1, 2, 3, 4, 5, 6, 7, 8, 9, 10, 11, 12, 13]\n",
      "[1, 2, 3, 5, 8, 13]\n",
      "[1, 2, 3, 5, 8, 13]\n",
      "{1, 2, 3, 34, 5, 8, 13, 21, 55, 89}\n"
     ]
    }
   ],
   "source": [
    "#Exercise 10: Solution\n",
    "import random\n",
    "#a = random.sample(range(1,30), 12)\n",
    "#b = random.sample(range(1,30), 16)\n",
    "a = [1, 1, 2, 3, 5, 8, 13, 21, 34, 55, 89]\n",
    "b = [1, 2, 3, 4, 5, 6, 7, 8, 9, 10, 11, 12, 13]\n",
    "print(a, b)\n",
    "result_overlaps = [i for i in set(a) if i in b]\n",
    "print(result_overlaps)\n",
    "result = [i for i in result_overlaps if result_overlaps.count(i) == 1]\n",
    "print(result)"
   ]
  },
  {
   "cell_type": "code",
   "execution_count": 21,
   "metadata": {},
   "outputs": [
    {
     "name": "stdout",
     "output_type": "stream",
     "text": [
      "Enter a number: 1\n"
     ]
    },
    {
     "ename": "SystemExit",
     "evalue": "1 is not a prime number",
     "output_type": "error",
     "traceback": [
      "An exception has occurred, use %tb to see the full traceback.\n",
      "\u001b[1;31mSystemExit\u001b[0m\u001b[1;31m:\u001b[0m 1 is not a prime number\n"
     ]
    },
    {
     "name": "stderr",
     "output_type": "stream",
     "text": [
      "C:\\Users\\Linh\\Anaconda3\\lib\\site-packages\\IPython\\core\\interactiveshell.py:2889: UserWarning: To exit: use 'exit', 'quit', or Ctrl-D.\n",
      "  warn(\"To exit: use 'exit', 'quit', or Ctrl-D.\", stacklevel=1)\n"
     ]
    }
   ],
   "source": [
    "#Exercise 11: Check Primality Functions: Ask user to enter a number\n",
    "#check if the number is prime or not\n",
    "import sys\n",
    "\n",
    "user = input('Enter a number: ')\n",
    "\n",
    "num = int(user)\n",
    "\n",
    "if num > 0:\n",
    "    if num ==2:\n",
    "        #print('%d is a prime number' % num)\n",
    "        sys.exit('%d is a prime number' % num)\n",
    "    elif num == 1:\n",
    "        sys.exit('%d is not a prime number' % num)\n",
    "    else:\n",
    "        for i in range(2,num-1):\n",
    "            if num % i != 0:\n",
    "                continue\n",
    "            elif num % i == 0:\n",
    "                sys.exit('%d is not a prime number' % num)\n",
    "        sys.exit('%d is a prime number' % num)\n",
    "elif num == 0:\n",
    "    sys.exit('%d is not a prime number' % num)\n",
    "else:\n",
    "    sys.exit('%d is not a prime number' % num)\n",
    "\n",
    "#Bi warning la sao a?"
   ]
  },
  {
   "cell_type": "code",
   "execution_count": 47,
   "metadata": {},
   "outputs": [
    {
     "name": "stdout",
     "output_type": "stream",
     "text": [
      "[47, 46, 37, 45, 32, 31]\n"
     ]
    },
    {
     "data": {
      "text/plain": [
       "[47, 31]"
      ]
     },
     "execution_count": 47,
     "metadata": {},
     "output_type": "execute_result"
    }
   ],
   "source": [
    "#Exercise 12: Write a function: take a list, \n",
    "#and make a new list of first and last elements of the old list\n",
    "import random\n",
    "a = random.sample(range(1,50),random.randrange(2,10))\n",
    "print(a)\n",
    "\n",
    "def NewList():\n",
    "    newlist = []\n",
    "    first = a[0]\n",
    "    last = a[len(a)-1] #not len(a)\n",
    "    newlist.append(first)\n",
    "    newlist.append(last)\n",
    "    return newlist\n",
    "\n",
    "NewList()"
   ]
  },
  {
   "cell_type": "code",
   "execution_count": 66,
   "metadata": {},
   "outputs": [
    {
     "name": "stdout",
     "output_type": "stream",
     "text": [
      "How many Fibonacci numbers to generate: 15\n"
     ]
    },
    {
     "data": {
      "text/plain": [
       "[1, 1, 2, 3, 5, 8, 13, 21, 34, 55, 89, 144, 233, 377, 610]"
      ]
     },
     "execution_count": 66,
     "metadata": {},
     "output_type": "execute_result"
    }
   ],
   "source": [
    "#Exercise 13: Fibonacci: ask user how many Fibonacci numbers to generate\n",
    "\n",
    "def Fibonacci():\n",
    "    user = int(input('How many Fibonacci numbers to generate: '))\n",
    "    i = 1 \n",
    "    if user == 0:\n",
    "        f = []\n",
    "    elif user == 1:\n",
    "        f = [1]\n",
    "    elif user == 2:\n",
    "        f = [1,1]\n",
    "    elif user > 2:\n",
    "        f = [1,1]\n",
    "        while i < (user - 1):\n",
    "            f.append(f[i]+f[i-1])\n",
    "            i += 1\n",
    "    return f\n",
    "Fibonacci()\n"
   ]
  },
  {
   "cell_type": "code",
   "execution_count": 86,
   "metadata": {
    "scrolled": false
   },
   "outputs": [
    {
     "name": "stdout",
     "output_type": "stream",
     "text": [
      "Enter a number: 5\n"
     ]
    },
    {
     "ename": "IndexError",
     "evalue": "list assignment index out of range",
     "output_type": "error",
     "traceback": [
      "\u001b[1;31m---------------------------------------------------------------------------\u001b[0m",
      "\u001b[1;31mIndexError\u001b[0m                                Traceback (most recent call last)",
      "\u001b[1;32m<ipython-input-86-29908a2ce23a>\u001b[0m in \u001b[0;36m<module>\u001b[1;34m()\u001b[0m\n\u001b[0;32m     10\u001b[0m         \u001b[0mfi\u001b[0m\u001b[1;33m.\u001b[0m\u001b[0mappend\u001b[0m\u001b[1;33m(\u001b[0m\u001b[0mfi\u001b[0m\u001b[1;33m[\u001b[0m\u001b[0mi\u001b[0m\u001b[1;33m]\u001b[0m\u001b[1;33m)\u001b[0m\u001b[1;33m\u001b[0m\u001b[0m\n\u001b[0;32m     11\u001b[0m     \u001b[1;32mreturn\u001b[0m \u001b[0mfi\u001b[0m\u001b[1;33m\u001b[0m\u001b[0m\n\u001b[1;32m---> 12\u001b[1;33m \u001b[0mFibo\u001b[0m\u001b[1;33m(\u001b[0m\u001b[1;33m)\u001b[0m\u001b[1;33m\u001b[0m\u001b[0m\n\u001b[0m",
      "\u001b[1;32m<ipython-input-86-29908a2ce23a>\u001b[0m in \u001b[0;36mFibo\u001b[1;34m()\u001b[0m\n\u001b[0;32m      6\u001b[0m         \u001b[0mfi\u001b[0m\u001b[1;33m[\u001b[0m\u001b[0mi\u001b[0m\u001b[1;33m-\u001b[0m\u001b[1;36m1\u001b[0m\u001b[1;33m]\u001b[0m \u001b[1;33m=\u001b[0m \u001b[0mfi\u001b[0m\u001b[1;33m[\u001b[0m\u001b[1;36m1\u001b[0m\u001b[1;33m]\u001b[0m\u001b[1;33m\u001b[0m\u001b[0m\n\u001b[0;32m      7\u001b[0m         \u001b[0mfi\u001b[0m\u001b[1;33m[\u001b[0m\u001b[0mi\u001b[0m\u001b[1;33m-\u001b[0m\u001b[1;36m2\u001b[0m\u001b[1;33m]\u001b[0m \u001b[1;33m=\u001b[0m \u001b[0mfi\u001b[0m\u001b[1;33m[\u001b[0m\u001b[1;36m0\u001b[0m\u001b[1;33m]\u001b[0m\u001b[1;33m\u001b[0m\u001b[0m\n\u001b[1;32m----> 8\u001b[1;33m         \u001b[0mfi\u001b[0m\u001b[1;33m[\u001b[0m\u001b[0mi\u001b[0m\u001b[1;33m]\u001b[0m \u001b[1;33m=\u001b[0m \u001b[0mfi\u001b[0m\u001b[1;33m[\u001b[0m\u001b[0mi\u001b[0m\u001b[1;33m-\u001b[0m\u001b[1;36m1\u001b[0m\u001b[1;33m]\u001b[0m \u001b[1;33m+\u001b[0m \u001b[0mfi\u001b[0m\u001b[1;33m[\u001b[0m\u001b[0mi\u001b[0m\u001b[1;33m-\u001b[0m\u001b[1;36m2\u001b[0m\u001b[1;33m]\u001b[0m\u001b[1;33m\u001b[0m\u001b[0m\n\u001b[0m\u001b[0;32m      9\u001b[0m         \u001b[0mi\u001b[0m \u001b[1;33m=\u001b[0m \u001b[0mi\u001b[0m\u001b[1;33m+\u001b[0m\u001b[1;36m1\u001b[0m\u001b[1;33m\u001b[0m\u001b[0m\n\u001b[0;32m     10\u001b[0m         \u001b[0mfi\u001b[0m\u001b[1;33m.\u001b[0m\u001b[0mappend\u001b[0m\u001b[1;33m(\u001b[0m\u001b[0mfi\u001b[0m\u001b[1;33m[\u001b[0m\u001b[0mi\u001b[0m\u001b[1;33m]\u001b[0m\u001b[1;33m)\u001b[0m\u001b[1;33m\u001b[0m\u001b[0m\n",
      "\u001b[1;31mIndexError\u001b[0m: list assignment index out of range"
     ]
    }
   ],
   "source": [
    "#Exercise 13: Cach 2, giong code trong R\n",
    "def Fibo():\n",
    "    n = int(input('Enter a number: '))\n",
    "    fi = [1,1]\n",
    "    for i in [2,n-1]:\n",
    "        fi[i-1] = fi[1]\n",
    "        fi[i-2] = fi[0]\n",
    "        fi[i] = fi[i-1] + fi[i-2]\n",
    "        i = i+1\n",
    "        fi.append(fi[i])\n",
    "    return fi\n",
    "Fibo()\n",
    "#@#$%^&*^&%^$%"
   ]
  },
  {
   "cell_type": "code",
   "execution_count": 12,
   "metadata": {},
   "outputs": [
    {
     "data": {
      "text/plain": [
       "{2, 3, 4, 6, 7, 8, 9, 11, 12, 14, 15, 16, 22, 32, 34, 35, 36, 78}"
      ]
     },
     "execution_count": 12,
     "metadata": {},
     "output_type": "execute_result"
    }
   ],
   "source": [
    "#Exercise 14: List Remove Duplicates: take a list and return a new list without the duplicates\n",
    "\n",
    "a = [1, 1, 2, 3, 5, 5, 5, 8, 9, 9, 13, 21, 34, 45, 46, 46, 47, 55, 89]\n",
    "b = [2,3,4,6,6,7,8,9,11,12,11,14,15,16,16,22,32,32,34,34,34,34,35,36,12,12,12,78]\n",
    "def uniq(x):\n",
    "    u = set(x)\n",
    "    return u\n",
    "uniq(a)\n",
    "uniq(b)\n"
   ]
  },
  {
   "cell_type": "code",
   "execution_count": 16,
   "metadata": {},
   "outputs": [
    {
     "name": "stdout",
     "output_type": "stream",
     "text": [
      "Enter a long phrase: My name is Linh xinh dep ahihi\n"
     ]
    },
    {
     "data": {
      "text/plain": [
       "'ahihi dep xinh Linh is name My'"
      ]
     },
     "execution_count": 16,
     "metadata": {},
     "output_type": "execute_result"
    }
   ],
   "source": [
    "#Exercise 15: Ask user a long string and return it in backward order\n",
    "\n",
    "def ReverseString(user = input('Enter a long phrase: ')):\n",
    "    newuser = user.split() #Spliting String\n",
    "    rev = newuser[::-1] #Reverse string\n",
    "    out = \" \".join(rev) #joining string\n",
    "    return out\n",
    "ReverseString()\n"
   ]
  },
  {
   "cell_type": "code",
   "execution_count": 35,
   "metadata": {},
   "outputs": [
    {
     "name": "stdout",
     "output_type": "stream",
     "text": [
      "How long do you want your password to be: 9\n",
      "How strong do you want your password to be (weak-medium-strong): strong\n",
      "k!@9&#xl4\n"
     ]
    }
   ],
   "source": [
    "#Exercise 16: Password generator:\n",
    "\n",
    "import random\n",
    "\n",
    "ch = 'qwertyuiopasdfghjklzxcvbnm'\n",
    "sym = '!@#$%^&*'\n",
    "num = '1234567890'\n",
    "\n",
    "user = int(input('How long do you want your password to be: '))\n",
    "strength = input('How strong do you want your password to be (weak-medium-strong): ')\n",
    "\n",
    "if strength == 'weak':\n",
    "    out = \"\".join(random.sample(ch,user))\n",
    "elif strength == 'medium':\n",
    "    p1 = random.sample(ch,user)\n",
    "    p2 = random.sample(num,user)\n",
    "    out = \"\".join(random.sample((p1+p2),user))\n",
    "elif strength == 'strong':\n",
    "    p1 = random.sample(ch,user)\n",
    "    p2 = random.sample(num,user)\n",
    "    p3 = random.sample(sym,len(sym))\n",
    "    out = \"\".join(random.sample((p1+p2+p3),user))\n",
    "\n",
    "print(out)\n",
    "#Tam tam the da"
   ]
  },
  {
   "cell_type": "code",
   "execution_count": 16,
   "metadata": {},
   "outputs": [
    {
     "name": "stdout",
     "output_type": "stream",
     "text": [
      "Russia Wields Oil Diplomacy, Pushing In on U.S. Interests\n",
      "Trump Tries to Shift Focus Amid Reports of Looming Charges\n",
      "Twitter Suspends Roger Stone After Expletive-Laden Posts\n",
      "2 Navy SEALs Under Suspicion in Death of Green Beret in Mali\n",
      "In Niger, Where U.S. Troops Died, a Lawless and Shifting Landscape\n",
      "‘Bedlam’ in Arizona After Jeff Flake Departs Senate Race\n",
      "Limit on 401(k) Savings? It’s About Paying for Tax Cuts\n",
      "Democrats Attack Tax Bill as a ‘Middle-Class Con Job’\n",
      "Puerto Rico Cancels Grid Contract With Small Montana Firm\n",
      "In California Politics, Lechery Finds Safe Haven, Women Say\n",
      "Rose McGowan, Refusing Weinstein’s Hush Money, Speaks Out\n",
      "Rebuilding a Dam in Puerto Rico\n",
      "Kurdish Leader Quits, Latest Fallout From Much-Criticized Independence Vote\n",
      "In Choice of Fed Chairman, Trump Downgrades Deregulation\n",
      "Egypt Shakes Up Security Forces After Deadly Ambush of Police\n",
      "Iceland’s Governing Party Retains Most Seats\n",
      "Five Years After Hurricane Sandy, Are We Better Prepared?\n",
      "Your Monday Briefing\n",
      "Listen to ‘The New Washington’\n",
      "How to Build a Skin Care Routine\n",
      "Mindfulness for Children\n",
      "In Liberia, an Executive Mansion Fit for a President — and Ghosts, Too\n",
      "The Lost Children of Tuam\n",
      "Watch: 796 Irish Children Vanished. Where Are They?\n",
      "Live Updates: Dodgers and Astros Meet for Game 5\n",
      "Some Pitchers Say World Series Balls Are Too Slick\n",
      "Will Catalonia Obey Madrid? Civil Servants Will Decide\n",
      "‘I Don’t Want an Independent Catalonia’: Rally Backs Unified Spain\n",
      "Troubling Turn in Afghan War: Taliban Heroin Profits Soar\n",
      "Facebook’s Most Disturbing Problems Are Abroad\n",
      "Former Priest Says Revered Colleague Was a Predator\n",
      "Morning Briefing: Australia Edition\n",
      "Morning Briefing: Asia Edition\n",
      "Morning Briefing: Europe Edition\n",
      "California Today\n",
      "Morning Briefing\n",
      "Australian Government Rejects Move for Indigenous ‘Recognition’\n",
      "Australia Deputy Leader Among 5 to Lose Seats Over Citizenship\n",
      "Japanese and Australian Foodways Mix Off a Winding Road\n",
      "Review: All Life Is a Swirl in ‘The Red Shoes’\n",
      "Ron Chernow: Marinating in Postbellum America\n",
      "At a Dinner Party When You’re the Bad Guest\n",
      "The Silence of the Democrats\n",
      "Editorial: Phil Murphy for Governor of New Jersey\n",
      "Blow: Checking My Male Privilege\n",
      "Leonhardt: Donald Trump Wants to Raise Your Taxes\n",
      "Heng: Japan’s Parliamentary Elections and Constitution\n",
      "James Madison’s Lessons in Racism\n",
      "The Economy Can’t Grow Without Birth Control\n",
      "Insect Armageddon\n",
      "Happiness Is Other People\n",
      "Follow us on Twitter »\n",
      "To Find the Story of the Lost Children of Tuam, I Needed a Guide\n",
      "Fans Love Extra Innings and Late-Game Twists. Reporters, Less So.\n",
      "To Find the Story of the Lost Children of Tuam, I Needed a Guide\n",
      "Play Today’s Puzzle\n",
      "Play Today’s Puzzle\n",
      "Her Peers Made School Look Easy. Now, With Hard Work, She’s Catching Up.\n",
      "The Dinners That Shaped History\n",
      "Bad Behavior, Great Art\n",
      "Mali’s Desert Elephants Get a Fighting Chance\n",
      "Scared of Dark Paint? Don’t Be\n",
      "Breast Cancer Is Serious. Pink Is Not.\n",
      "Thinking on Your Feet\n",
      "Beauty and Politics in a Rapidly Changing City\n",
      "The Perfect Woman to Paint Michelle Obama\n",
      "24 Delicious One-Pot Dinners\n",
      "Future Tense: Haunted by Purchases on the Web\n",
      "Yes, I Really Am in This Beauty Pageant\n",
      "Sade’s Quiet Storm of Cool\n",
      "Resist or Obey Madrid’s Rule? Catalonia Civil Servants Must Decide\n",
      "Afghan Taliban Awash in Heroin Cash, a Troubling Turn for War\n",
      "Monrovia Journal: In Liberia, an Executive Mansion Fit for a President — and Ghosts, Too\n",
      "Mark Warner: Tech Millionaire Who Became Tech’s Critic in Congress\n",
      "The Shift: Forget Washington. Facebook’s Problems Abroad Are Far More Disturbing.\n",
      "Russia Uses Its Oil Giant, Rosneft, as a Foreign Policy Tool\n",
      "Op-Ed Contributor: The Silence of the Democrats\n",
      "Bryce Covert: The Economy Can’t Grow Without Birth Control\n",
      "Editorial: Insect Armageddon\n",
      "Sexual Misconduct in California’s Capitol Is Difficult to Escape\n",
      "Refusing Weinstein’s Hush Money, Rose McGowan Calls Out Hollywood\n",
      "Puerto Rico Cancels Whitefish Energy Contract to Rebuild Power Lines\n",
      "What Worries? Big Tech Companies Post Glowing Quarterly Profits\n",
      "Russia Fanned Flames With Twitter, Which Faces a Blowback\n",
      "Twitter Bans Two Kremlin-Backed News Outlets From Advertising\n",
      "Review: Onstage Jay-Z Forgoes Distractions, Drilling Down to the Message\n",
      "Review: ‘Knives in Hens,’ a Wondrous Drama of the Lust for Language\n",
      "Critic’s Notebook: A Canadian Composer’s Death-Obsessed Search for Connection\n",
      "Roger Stone Suspended From Twitter After Expletive-Laden Tweets\n",
      "2 Navy SEALs Under Suspicion in Strangling of Green Beret in Mali\n",
      "Democrats Attack Tax Bill as a ‘Middle-Class Con Job’\n",
      "Virtual Reality Gets Naughty\n",
      "The Look: Is Fall Dead?\n",
      "Future Tense: Amazon Key Is a Lot Less Scary Than My Post-1-Click Remorse\n",
      "‘Jigsaw’ Carves Up Clooney’s ‘Suburbicon’ at the Box Office\n",
      "Review: ‘The Square’ Takes Aim at Art, Sex, Money and More\n",
      "2017: The Biggest Year in Horror History\n",
      "Five Years After Sandy, Are We Better Prepared?\n",
      "The Rebuilding Years, Post-Sandy\n",
      "On Staten Island, Haunting Memories of Those Killed by Hurricane Sandy\n",
      "World Series 2017: Dodgers vs. Astros Game 5 Live Updates\n",
      "The Battle-Scarred West Wing Veteran Scripting the N.F.L.’s Anthem Message\n",
      "N.F.L. Scores: Houston Texans Kneel During Anthem in Protest\n",
      "Review: ‘Knives in Hens,’ a Wondrous Drama of the Lust for Language\n",
      "Donald Trump and Michael Moore Quarrel Over Broadway Show\n",
      "Review: ‘M. Butterfly’ Returns to Broadway on Heavier Wings\n",
      "Trilobites: Astronomers Race to Study a Mystery Object From Outside Our Solar System\n",
      "Trilobites: A Turkey-Size Dinosaur With a Raccoon-Like Bandit Mask\n",
      "Trilobites: Yes, Oysters Can ‘Hear.’ They Probably Wish We’d Clam Up.\n",
      "Wopo Holup, Who Adorned Public Spaces With Art, Dies at 80\n",
      "Robert Blakeley, Whose Fallout Shelter Sign Symbolized the Cold War, Dies at 95\n",
      "Fay Chiang, 65, Poet Who Championed Asian-American Culture, Dies\n",
      "‘Stranger Things’ Season 2 Premiere Recap: Lingering Effects\n",
      "Critic’s Notebook: ‘TRL’ Is Back on MTV, but Undone by the Internet\n",
      "Chatter: ‘Stranger Things’ Is Back. Here’s What to Remember Before Watching Season 2.\n",
      "The Governor Blocked Medicaid Expansion. Now Maine Voters Could Overrule Him.\n",
      "The New Old Age: One Last Question Before the Operation: Just How Frail Are You?\n",
      "Trump Declares Opioid Crisis a ‘Health Emergency’ but Requests No Funds\n",
      "Next Stop: In Spice-Laden Kerala, a Break From Urban India\n",
      "Footsteps: Chasing the Spirit of a Fractured Spain Through García Lorca\n",
      "5 Bargain Destinations for Fall Travel\n",
      "Nonfiction: Stranger Than Fiction: The Best True-Crime Stories\n",
      "Fiction: A Roundup of New Horror, All Indebted to an Early Master\n",
      "Fiction: Our Villains, Ourselves: A Thriller Roundup\n",
      "On Campus: Campus Hate Lives on the Internet. Administrators Need to Catch Up.\n",
      "Which Classroom Setting Suits You?\n",
      "Your Money: A Game to Help Students Pay the Right Price for College\n",
      "City Kitchen: A Warming Curry for Fall\n",
      "Wine School: Your Next Lesson: Savennières\n",
      "Matt Orlando Brings California Sun to Copenhagen\n",
      "The Food Issue: The Art of the Dinner Party\n",
      "The Food Issue: The All-Hands-On-Deck Dumpling Party\n",
      "The Food Issue: The Fondue Party\n",
      "A Bedroom for Rover, Maybe Even a Condo\n",
      "360 View: Could You Be Living in an Illegal Apartment?\n",
      "Shopping Guide: Shopping for Wingback Chairs\n",
      "When Silver Costs More Than Gold: How Trump’s Actions Have Scrambled Insurance Prices\n",
      "You Draw It: Just How Bad Is the Drug Overdose Epidemic?\n",
      "Drug Deaths in America Are Rising Faster Than Ever\n",
      "To Find the Story of the Lost Children of Tuam, I Needed a Guide\n",
      "Reporter’s Notebook: Fans Love Extra Innings and Late-Game Twists. Reporters, Less So.\n",
      "‘I’m Icing My Knee and I’m Hard Boiling Some Eggs’\n",
      "Automakers Build War Chests to Finance a Self-Driving Future\n",
      "Subaru Admits Inspection Failings, in Another Blow to Japan’s Carmakers\n",
      "Wheels: Forgetting a Child in a Back Seat Can Kill. Cars May Soon Warn You.\n",
      "By Design: The Man Designing Spaces for the Instagram Age\n",
      "Some Things T Editors Like Right Now\n",
      "Helsinki’s Best Public Saunas: A Guide\n",
      "A Bedroom for Rover, Maybe Even a Condo\n",
      "Search for Homes for Sale or Rent\n",
      "Mortgage Calculator\n"
     ]
    }
   ],
   "source": [
    "#Exercise 17: Decode a webpage: Use the BeautifulSoup and requests Python packages to print out \n",
    "#a list of all the article titles on the New York Times homepage.\n",
    "\n",
    "import requests\n",
    "from bs4 import BeautifulSoup\n",
    "\n",
    "# Make the request to nytimes homepage\n",
    "base_url = 'https://www.nytimes.com'\n",
    "r = requests.get(base_url)\n",
    "\n",
    "# r.text returns all the HTML from the returned request\n",
    "soup = BeautifulSoup(r.text, 'lxml') # Added 'lxml' due to warning\n",
    "\n",
    "# Inspecting elements from the website html\n",
    "# All of the story titles are embedded inside some kind of HTML tag with a class called story-heading\n",
    "\n",
    "for story_heading in soup.find_all(class_='story-heading'): # This returns a list of all tags with story-heading as a class\n",
    "    if story_heading.a:\n",
    "        print(story_heading.a.text.replace('\\n',' ').strip())\n",
    "    else:\n",
    "        print(story_heading.contents[0].strip())\n",
    "        \n",
    "#title = soup.find('span', 'The Silence of the Democrats').string\n"
   ]
  },
  {
   "cell_type": "markdown",
   "metadata": {},
   "source": [
    "# Excercise 17: Another solution:\n",
    "\n",
    "import requests\n",
    "from bs4 import BeautifulSoup\n",
    "\n",
    "url = 'http://www.nytimes.com/'\n",
    "ttl_lst = []\n",
    "\n",
    "soup = BeautifulSoup(requests.get(url).text,'lxml')\n",
    "title = soup.findAll('h2', {'class': 'story-heading'})\n",
    "for row in title:\n",
    "     ttl_lst.append(row.text.replace('\\n',' ').strip())\n",
    "\n",
    "print(ttl_lst)\n",
    "\n",
    "# Some problems with format"
   ]
  },
  {
   "cell_type": "code",
   "execution_count": 38,
   "metadata": {
    "collapsed": true
   },
   "outputs": [],
   "source": [
    "#Exercise 19: Decode a webpage 2: Print full text of an article\n",
    "#The article is 4 page, print it so that you can read full article without having to click any button\n",
    "\n",
    "import requests\n",
    "from bs4 import BeautifulSoup\n",
    "\n",
    "url = 'http://www.vanityfair.com/society/2014/06/monica-lewinsky-humiliation-culture'\n",
    "\n",
    "r = requests.get(url)\n",
    "soup = BeautifulSoup(r.text, 'lxml')\n",
    "\n",
    "allinone = soup.select('div.parbase.cn_text > div.body > p')\n",
    "with open('OnOnePage','w') as newfile:\n",
    "    for pg in allinone:\n",
    "        newfile.write(pg.text)\n",
    "#Sua qua solution:    \n",
    "#File OnOnePAge created, but blank\n",
    "#Code co van de"
   ]
  },
  {
   "cell_type": "code",
   "execution_count": 49,
   "metadata": {
    "collapsed": true
   },
   "outputs": [],
   "source": [
    "#Exercise 19: Solution 2\n",
    "\"\"\"\n",
    "Using the requests and BeautifulSoup Python libraries, print to the screen the full text of the\n",
    "article on this website: http://www.vanityfair.com/society/2014/06/monica-lewinsky-humiliation-culture.\n",
    "http://www.practicepython.org/exercise/2014/07/14/19-decode-a-web-page-two.html\n",
    "\"\"\"\n",
    "\n",
    "import requests\n",
    "from bs4 import BeautifulSoup\n",
    "\n",
    "def print_to_text(base_url):\n",
    "    \"\"\"\n",
    "    :param base_url: URL of article to scrape\n",
    "    :return: naked content to text file\n",
    "    \"\"\"\n",
    "    r = requests.get(base_url)\n",
    "    soup = BeautifulSoup(r.text, 'lxml')\n",
    "    with open(\"work less.txt\", \"w\") as textfile:\n",
    "        for paragraph in soup.find_all(dir=\"ltr\"):\n",
    "            textfile.write(paragraph.text.replace(\"<span>\",\"\"))\n",
    "\n",
    "if __name__ == \"__main__\":\n",
    "    #Chose my own article\n",
    "    base_url = \"http://www.theatlantic.com/business/archive/2014/08/to-work-better-work-less/375763/\"\n",
    "    base_url2 = \"http://www.theatlantic.com/business/archive/2014/08/to-work-better-work-less/375763/2/\"\n",
    "    print_to_text(base_url)\n",
    "    print_to_text(base_url2)\n",
    "#File \"work less\" was created\n",
    "#Code worked"
   ]
  },
  {
   "cell_type": "code",
   "execution_count": 31,
   "metadata": {},
   "outputs": [
    {
     "name": "stdout",
     "output_type": "stream",
     "text": [
      "Your guess: 1598\n"
     ]
    },
    {
     "ename": "IndexError",
     "evalue": "string index out of range",
     "output_type": "error",
     "traceback": [
      "\u001b[1;31m---------------------------------------------------------------------------\u001b[0m",
      "\u001b[1;31mIndexError\u001b[0m                                Traceback (most recent call last)",
      "\u001b[1;32m<ipython-input-31-d0ec733cf0d2>\u001b[0m in \u001b[0;36m<module>\u001b[1;34m()\u001b[0m\n\u001b[0;32m     20\u001b[0m             \u001b[1;32mfor\u001b[0m \u001b[0mn\u001b[0m \u001b[1;32min\u001b[0m \u001b[0mnumber\u001b[0m\u001b[1;33m:\u001b[0m\u001b[1;33m\u001b[0m\u001b[0m\n\u001b[0;32m     21\u001b[0m                 \u001b[1;32mfor\u001b[0m \u001b[0ma\u001b[0m \u001b[1;32min\u001b[0m \u001b[1;33m(\u001b[0m\u001b[1;36m0\u001b[0m\u001b[1;33m,\u001b[0m\u001b[1;36m3\u001b[0m\u001b[1;33m)\u001b[0m\u001b[1;33m:\u001b[0m\u001b[1;33m\u001b[0m\u001b[0m\n\u001b[1;32m---> 22\u001b[1;33m                     \u001b[1;32mif\u001b[0m \u001b[0mu\u001b[0m\u001b[1;33m[\u001b[0m\u001b[0ma\u001b[0m\u001b[1;33m]\u001b[0m\u001b[1;33m==\u001b[0m\u001b[0mn\u001b[0m\u001b[1;33m[\u001b[0m\u001b[0ma\u001b[0m\u001b[1;33m]\u001b[0m\u001b[1;33m:\u001b[0m\u001b[1;33m\u001b[0m\u001b[0m\n\u001b[0m\u001b[0;32m     23\u001b[0m                         \u001b[0mbull\u001b[0m \u001b[1;33m=\u001b[0m \u001b[0mbull\u001b[0m \u001b[1;33m+\u001b[0m\u001b[1;36m1\u001b[0m\u001b[1;33m\u001b[0m\u001b[0m\n\u001b[0;32m     24\u001b[0m                         \u001b[0mcow\u001b[0m \u001b[1;33m=\u001b[0m \u001b[0mcow\u001b[0m \u001b[1;33m+\u001b[0m\u001b[1;36m1\u001b[0m\u001b[1;33m\u001b[0m\u001b[0m\n",
      "\u001b[1;31mIndexError\u001b[0m: string index out of range"
     ]
    }
   ],
   "source": [
    "#Exercise 18: Cows and Bulls: Randomly generate a 4 digit number; Ask user to guess a 4 digit number\n",
    "#Right number right place: cow, right number wrong place: bull\n",
    "#Keep track of numbers of try\n",
    "#End the game when the user guess correctly\n",
    "\n",
    "import random\n",
    "\n",
    "number = str(random.randint(0,9999)) #random 4 digit number\n",
    "user = []\n",
    "bull = 0\n",
    "cow = 0\n",
    "numtry = 0\n",
    "\n",
    "while bull < 4:\n",
    "    user = str(input('Your guess: '))\n",
    "    if user == 'quit':\n",
    "        break\n",
    "    else:    \n",
    "        for u in user:            \n",
    "            for n in number:\n",
    "                for a in (0,3):                    \n",
    "                    if u[a]==n[a]:\n",
    "                        bull = bull +1\n",
    "                        cow = cow +1\n",
    "                    elif u[a] != n[a]:\n",
    "                        cow = cow\n",
    "                        bull = bull\n",
    "                    else:\n",
    "                        bull = bull\n",
    "                        cow = cow + 1              \n",
    "        \n",
    "    numtry = numtry + 1\n",
    "        \n",
    "    print('%d cows and %d bulls' %(cow,bull))\n",
    "    \n",
    "if user == number or bull == 4:\n",
    "\n",
    "    print('Congratulations you\\'ve guessed correctly the number %s ' %user)\n",
    "    print('Total of tries is %d' %numtry)\n",
    "    print('The answer is %s ' %number)\n",
    "\n",
    "#break phai dung ben trong loop\n",
    "#co gi do sai sai\n",
    "#cang chua cang sai..."
   ]
  },
  {
   "cell_type": "code",
   "execution_count": 29,
   "metadata": {},
   "outputs": [
    {
     "name": "stdout",
     "output_type": "stream",
     "text": [
      "Let's play a game of Cowbull!\n",
      "I will generate a number, and you have to guess the numbers one digit at a time.\n",
      "For every number in the wrong place, you get a cow. For every one in the right place, you get a bull.\n",
      "The game ends when you get 4 bulls!\n",
      "Type exit at any prompt to exit.\n",
      "Give me your best guess!5126\n",
      "You have 4 cows, and 0 bulls.\n",
      "Your guess isn't quite right, try again.\n",
      "Give me your best guess!2516\n",
      "You have 3 cows, and 1 bulls.\n",
      "Your guess isn't quite right, try again.\n",
      "Give me your best guess!5162\n",
      "You have 4 cows, and 0 bulls.\n",
      "Your guess isn't quite right, try again.\n",
      "Give me your best guess!2561\n",
      "You have 3 cows, and 1 bulls.\n",
      "Your guess isn't quite right, try again.\n",
      "Give me your best guess!6521\n",
      "You have 4 cows, and 0 bulls.\n",
      "Your guess isn't quite right, try again.\n",
      "Give me your best guess!6125\n",
      "You have 4 cows, and 0 bulls.\n",
      "Your guess isn't quite right, try again.\n",
      "Give me your best guess!2651\n",
      "You have 3 cows, and 1 bulls.\n",
      "Your guess isn't quite right, try again.\n",
      "Give me your best guess!2165\n",
      "You have 3 cows, and 1 bulls.\n",
      "Your guess isn't quite right, try again.\n",
      "Give me your best guess!2615\n",
      "You have 3 cows, and 1 bulls.\n",
      "Your guess isn't quite right, try again.\n",
      "Give me your best guess!2561\n",
      "You have 3 cows, and 1 bulls.\n",
      "Your guess isn't quite right, try again.\n",
      "Give me your best guess!2562\n",
      "You have 3 cows, and 1 bulls.\n",
      "Your guess isn't quite right, try again.\n",
      "Give me your best guess!2000\n",
      "You have 2 cows, and 2 bulls.\n",
      "Your guess isn't quite right, try again.\n",
      "Give me your best guess!2001\n",
      "You have 2 cows, and 2 bulls.\n",
      "Your guess isn't quite right, try again.\n",
      "Give me your best guess!2043\n",
      "You have 2 cows, and 2 bulls.\n",
      "Your guess isn't quite right, try again.\n",
      "Give me your best guess!2078\n",
      "You have 2 cows, and 2 bulls.\n",
      "Your guess isn't quite right, try again.\n",
      "Give me your best guess!2020\n",
      "You have 2 cows, and 2 bulls.\n",
      "Your guess isn't quite right, try again.\n",
      "Give me your best guess!2048\n",
      "You have 2 cows, and 2 bulls.\n",
      "Your guess isn't quite right, try again.\n",
      "Give me your best guess!2084\n",
      "You have 1 cows, and 3 bulls.\n",
      "Your guess isn't quite right, try again.\n",
      "Give me your best guess!2087\n",
      "You have 1 cows, and 3 bulls.\n",
      "Your guess isn't quite right, try again.\n",
      "Give me your best guess!2089\n",
      "You have 0 cows, and 4 bulls.\n",
      "You win the game after 20! The number was 2089\n"
     ]
    }
   ],
   "source": [
    "#Exercise 18: Solution:\n",
    "import random\n",
    "\n",
    "def compare_numbers(number, user_guess):\n",
    "    cowbull = [0,0] #cows, then bulls\n",
    "    for i in range(len(number)):\n",
    "        if number[i] == user_guess[i]:\n",
    "            cowbull[1]+=1\n",
    "        else:\n",
    "            cowbull[0]+=1\n",
    "    return cowbull\n",
    "\n",
    "if __name__==\"__main__\":\n",
    "    playing = True #gotta play the game\n",
    "    number = str(random.randint(0,9999)) #random 4 digit number\n",
    "    guesses = 0\n",
    "\n",
    "    print(\"Let's play a game of Cowbull!\") #explanation\n",
    "    print(\"I will generate a number, and you have to guess the numbers one digit at a time.\")\n",
    "    print(\"For every number in the wrong place, you get a cow. For every one in the right place, you get a bull.\")\n",
    "    print(\"The game ends when you get 4 bulls!\")\n",
    "    print(\"Type exit at any prompt to exit.\")\n",
    "\n",
    "    while playing:\n",
    "        user_guess = input(\"Give me your best guess!\")\n",
    "        if user_guess == \"exit\":\n",
    "            break\n",
    "        cowbullcount = compare_numbers(number,user_guess)\n",
    "        guesses+=1\n",
    "\n",
    "        print(\"You have \"+ str(cowbullcount[0]) + \" cows, and \" + str(cowbullcount[1]) + \" bulls.\")\n",
    "\n",
    "        if cowbullcount[1]==4:\n",
    "            playing = False\n",
    "            print(\"You win the game after \" + str(guesses) + \"! The number was \"+str(number))\n",
    "            break #redundant exit\n",
    "        else:\n",
    "            print(\"Your guess isn't quite right, try again.\")"
   ]
  },
  {
   "cell_type": "code",
   "execution_count": 45,
   "metadata": {},
   "outputs": [
    {
     "name": "stdout",
     "output_type": "stream",
     "text": [
      "Enter a number: 15\n"
     ]
    },
    {
     "ename": "SystemExit",
     "evalue": "15 is not in the list",
     "output_type": "error",
     "traceback": [
      "An exception has occurred, use %tb to see the full traceback.\n",
      "\u001b[1;31mSystemExit\u001b[0m\u001b[1;31m:\u001b[0m 15 is not in the list\n"
     ]
    },
    {
     "name": "stderr",
     "output_type": "stream",
     "text": [
      "C:\\Users\\Linh\\Anaconda3\\lib\\site-packages\\IPython\\core\\interactiveshell.py:2889: UserWarning: To exit: use 'exit', 'quit', or Ctrl-D.\n",
      "  warn(\"To exit: use 'exit', 'quit', or Ctrl-D.\", stacklevel=1)\n"
     ]
    }
   ],
   "source": [
    "#Exercise 20: Element Search: Take a list; ask user for a number; search if that number is in the list\n",
    "a  = [1, 1, 2, 3, 5, 5, 5, 8, 9, 9, 13, 21, 34, 45, 46, 46, 47, 55, 89]\n",
    "\n",
    "import sys\n",
    "\n",
    "def search(n = int(input('Enter a number: '))):\n",
    "    for i in a:\n",
    "        if i != n:\n",
    "            continue\n",
    "        elif i == n:\n",
    "            sys.exit('%d is in the list' % n)\n",
    "    sys.exit('%d is not in the list' % n)\n",
    "search()\n",
    "    "
   ]
  },
  {
   "cell_type": "code",
   "execution_count": 35,
   "metadata": {},
   "outputs": [
    {
     "name": "stdout",
     "output_type": "stream",
     "text": [
      "File to save to: nytimesfromweb\n"
     ]
    }
   ],
   "source": [
    "#Exercise 21: Write to a file: Take the result from Decode Website Exercise, write it to a txt file\n",
    "import requests\n",
    "from bs4 import BeautifulSoup\n",
    "\n",
    "# Make the request to nytimes homepage\n",
    "base_url = 'https://www.nytimes.com'\n",
    "r = requests.get(base_url)\n",
    "\n",
    "# r.text returns all the HTML from the returned request\n",
    "soup = BeautifulSoup(r.text, 'lxml') # Added 'lxml' due to warning\n",
    "\n",
    "# Inspecting elements from the website html\n",
    "# All of the story titles are embedded inside some kind of HTML tag with a class called story-heading\n",
    "\n",
    "filename = input('File to save to: ')\n",
    "with open(filename, 'w') as f:\n",
    "    for story_heading in soup.find_all(class_='story-heading'): # This returns a list of all tags with story-heading as a class\n",
    "        if story_heading.a:\n",
    "            f.write(story_heading.a.text.replace('\\n',' ').strip())\n",
    "        else:\n",
    "            f.write(story_heading.contents[0].strip())\n",
    "\n",
    "#worked"
   ]
  },
  {
   "cell_type": "code",
   "execution_count": null,
   "metadata": {
    "collapsed": true
   },
   "outputs": [],
   "source": [
    "#Exercise 22: Read from a file\n",
    "#Createda file that contains a list of names, count how many of each \n",
    "#and print out the result\n",
    "\n",
    "with open('write this file.txt','r') as write:\n",
    "    fulltext = write.read()\n",
    "    while fulltext:\n",
    "        name = str(fulltext)\n",
    "        newname = name.replace('\\n', ' ').strip()\n",
    "        print(newname)\n",
    "        for i in newname:\n",
    "            "
   ]
  },
  {
   "cell_type": "code",
   "execution_count": null,
   "metadata": {
    "collapsed": true
   },
   "outputs": [],
   "source": [
    "#Exercise 27: Tic Tac Toe\n",
    "\n"
   ]
  },
  {
   "cell_type": "code",
   "execution_count": 1,
   "metadata": {},
   "outputs": [
    {
     "name": "stdout",
     "output_type": "stream",
     "text": [
      "Enter first number: 3\n",
      "Enter second number: 5\n",
      "Enter third number: 9\n"
     ]
    },
    {
     "data": {
      "text/plain": [
       "9"
      ]
     },
     "execution_count": 1,
     "metadata": {},
     "output_type": "execute_result"
    }
   ],
   "source": [
    "#Exercise 28: Max of Three: Take 3 input numbers; return the largest of 3\n",
    "\n",
    "def Maxof3():\n",
    "    \n",
    "    num1 = int(input('Enter first number: '))\n",
    "    num2 = int(input('Enter second number: '))\n",
    "    num3 = int(input('Enter third number: '))\n",
    "\n",
    "    mylist = [num1, num2, num3]\n",
    "\n",
    "    out = max(mylist)\n",
    "    return out\n",
    "Maxof3()\n"
   ]
  },
  {
   "cell_type": "code",
   "execution_count": 2,
   "metadata": {
    "collapsed": true
   },
   "outputs": [],
   "source": []
  },
  {
   "cell_type": "code",
   "execution_count": 5,
   "metadata": {},
   "outputs": [
    {
     "name": "stdout",
     "output_type": "stream",
     "text": [
      "dict_keys(['Mai', 'Hung', 'Ky', 'Bong'])\n",
      "Whose birthday you want to check? meo\n",
      "meo's birthday is not in the dictionary\n"
     ]
    }
   ],
   "source": [
    "#Exercise 33: Birthday Dictionaries create a dicitonay or names and birthdays\n",
    "#Ask user to enter a name and return the birthday of that person\n",
    "\n",
    "birthday = {'Mai':'7/11/1966', \n",
    "            'Hung':'10/27/1967', \n",
    "            'Ky':'11/5/1993',\n",
    "            'Bong':'5/1/1998' }\n",
    "print(birthday.keys())\n",
    "user = input('Whose birthday you want to check? ')\n",
    "\n",
    "if user in birthday.keys():\n",
    "    print(birthday[user])\n",
    "else:\n",
    "    print('%s\\'s birthday is not in the dictionary' %user)\n"
   ]
  },
  {
   "cell_type": "code",
   "execution_count": 6,
   "metadata": {
    "collapsed": true
   },
   "outputs": [],
   "source": [
    "# Exercise 34: Birthday Json: modify code from exercise 33, but use json dictionary\n",
    "\n",
    "import json\n",
    "#Exercise 35: Birthday Months\n"
   ]
  },
  {
   "cell_type": "code",
   "execution_count": null,
   "metadata": {
    "collapsed": true
   },
   "outputs": [],
   "source": [
    "#Exercise 35: Birthday Months\n"
   ]
  },
  {
   "cell_type": "code",
   "execution_count": null,
   "metadata": {
    "collapsed": true
   },
   "outputs": [],
   "source": [
    "#Exercise 36: Birthday plots: Use bokeh library to plots a histogram of birthdays\n"
   ]
  },
  {
   "cell_type": "code",
   "execution_count": 6,
   "metadata": {},
   "outputs": [
    {
     "data": {
      "text/plain": [
       "'C:\\\\Users\\\\Linh'"
      ]
     },
     "execution_count": 6,
     "metadata": {},
     "output_type": "execute_result"
    }
   ],
   "source": [
    "# To get current working directory\n",
    "import os\n",
    "os.getcwd()"
   ]
  }
 ],
 "metadata": {
  "kernelspec": {
   "display_name": "Python 3",
   "language": "python",
   "name": "python3"
  },
  "language_info": {
   "codemirror_mode": {
    "name": "ipython",
    "version": 3
   },
   "file_extension": ".py",
   "mimetype": "text/x-python",
   "name": "python",
   "nbconvert_exporter": "python",
   "pygments_lexer": "ipython3",
   "version": "3.6.2"
  }
 },
 "nbformat": 4,
 "nbformat_minor": 2
}
